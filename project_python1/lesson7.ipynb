{
 "cells": [
  {
   "cell_type": "code",
   "execution_count": 15,
   "metadata": {},
   "outputs": [],
   "source": [
    "class Person():\n",
    "    def __init__(self,name,age): #self一定要存在\n",
    "        #attribute\n",
    "        self.name=name\n",
    "        self.age=age\n",
    "\n",
    "    #實體的merhod\n",
    "    def shout(self):\n",
    "        print(f\"我的名字叫{self.name}\")\n",
    "        print(f\"我的age叫{self.age}\")"
   ]
  },
  {
   "cell_type": "code",
   "execution_count": 16,
   "metadata": {},
   "outputs": [
    {
     "name": "stdout",
     "output_type": "stream",
     "text": [
      "我的名字叫robert\n",
      "我的age叫35\n"
     ]
    }
   ],
   "source": [
    "p1=Person(\"robert\",35)\n",
    "# p1.name,p1.age\n",
    "p1.shout()"
   ]
  },
  {
   "cell_type": "code",
   "execution_count": 14,
   "metadata": {},
   "outputs": [
    {
     "data": {
      "text/plain": [
       "('jenny', 25)"
      ]
     },
     "execution_count": 14,
     "metadata": {},
     "output_type": "execute_result"
    }
   ],
   "source": [
    "p2=Person(\"jenny\",25)\n",
    "# p2.name,p2.age"
   ]
  },
  {
   "cell_type": "code",
   "execution_count": 41,
   "metadata": {},
   "outputs": [],
   "source": [
    "#繼承概念\n",
    "#Student 繼承Person方法\n",
    "\n",
    "class Student(Person):\n",
    "    def __init__(self, name, age,w=60,h=170):\n",
    "        \n",
    "        #寫新的attribute 原繼承的副類別attribute不會被繼承\n",
    "        super().__init__(name, age) \n",
    "\n",
    "        #建立自己的attribute ，若想繼承父類別的attribute 要先執行上面那段 在建立自己的attribute\n",
    "        self.weight=w\n",
    "        self.height=h\n",
    "    \n",
    "    #overwrite\n",
    "    #實體的merhod\n",
    "    def shout(self):\n",
    "        #呼叫了副類別的merhod\n",
    "        super().shout()\n",
    "        print(f\"我的身高:{self.height}\")\n",
    "        print(f\"我的體重:{self.weight}\")\n",
    "      "
   ]
  },
  {
   "cell_type": "code",
   "execution_count": 39,
   "metadata": {},
   "outputs": [
    {
     "name": "stdout",
     "output_type": "stream",
     "text": [
      "我的名字叫Wendy\n",
      "我的age叫23\n",
      "我的身高:180\n",
      "我的體重:50\n"
     ]
    }
   ],
   "source": [
    "#用Student呼叫Person方法\n",
    "stu1=Student(\"Wendy\",23,50,180)\n",
    "stu1.shout()"
   ]
  },
  {
   "cell_type": "code",
   "execution_count": 29,
   "metadata": {},
   "outputs": [
    {
     "name": "stdout",
     "output_type": "stream",
     "text": [
      "我的名字叫Ken\n",
      "我的age叫27\n"
     ]
    }
   ],
   "source": [
    "stu2=Student(\"Ken\",27)\n",
    "stu2.shout()"
   ]
  }
 ],
 "metadata": {
  "kernelspec": {
   "display_name": "Python 3.10.7 ('venv01')",
   "language": "python",
   "name": "python3"
  },
  "language_info": {
   "codemirror_mode": {
    "name": "ipython",
    "version": 3
   },
   "file_extension": ".py",
   "mimetype": "text/x-python",
   "name": "python",
   "nbconvert_exporter": "python",
   "pygments_lexer": "ipython3",
   "version": "3.10.7"
  },
  "orig_nbformat": 4,
  "vscode": {
   "interpreter": {
    "hash": "d382be7cd431e07077eb23ecb2815bef3ffe49182757653b6f636d580b0a5df3"
   }
  }
 },
 "nbformat": 4,
 "nbformat_minor": 2
}
