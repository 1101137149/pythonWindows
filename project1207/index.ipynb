{
 "cells": [
  {
   "cell_type": "code",
   "execution_count": null,
   "metadata": {},
   "outputs": [],
   "source": [
    "#建立虛擬環境\n",
    "#python -m venv venv1207\n",
    "\n",
    "#安裝beautifulsoup4 (去PIPY找)\n",
    "#pip install beautifulsoup4\n",
    "\n",
    "#更新pip \n",
    "#pip install --upgrade pip\n",
    "\n",
    "#如果原本有這個檔案 請幫我更新的意思\n",
    "#pip install -U beautifulsoup4\n",
    "\n",
    "#參考網址\n",
    "#https://www.crummy.com/software/BeautifulSoup/bs4/doc/"
   ]
  },
  {
   "cell_type": "code",
   "execution_count": 4,
   "metadata": {},
   "outputs": [
    {
     "name": "stdout",
     "output_type": "stream",
     "text": [
      "<html>\n",
      "<head>\n",
      "<title>The Dormouse's story</title>\n",
      "</head>\n",
      "<body>\n",
      "<p class=\"title\"><b>The Dormouse's story</b></p>\n",
      "\n",
      "<p class=\"story\">Once upon a time there were three little sisters; and their names were\n",
      "<a href=\"http://example.com/elsie\" class=\"sister\" id=\"link1\">Elsie</a>,\n",
      "<a href=\"http://example.com/lacie\" class=\"sister\" id=\"link2\">Lacie</a> and\n",
      "<a href=\"http://example.com/tillie\" class=\"sister\" id=\"link3\">Tillie</a>;\n",
      "and they lived at the bottom of a well.</p>\n",
      "\n",
      "<p class=\"story\">...</p>\n",
      "</body>\n",
      "</html>\n",
      "\n"
     ]
    }
   ],
   "source": [
    "html_doc = \"\"\"<html>\n",
    "<head>\n",
    "<title>The Dormouse's story</title>\n",
    "</head>\n",
    "<body>\n",
    "<p class=\"title\"><b>The Dormouse's story</b></p>\n",
    "\n",
    "<p class=\"story\">Once upon a time there were three little sisters; and their names were\n",
    "<a href=\"http://example.com/elsie\" class=\"sister\" id=\"link1\">Elsie</a>,\n",
    "<a href=\"http://example.com/lacie\" class=\"sister\" id=\"link2\">Lacie</a> and\n",
    "<a href=\"http://example.com/tillie\" class=\"sister\" id=\"link3\">Tillie</a>;\n",
    "and they lived at the bottom of a well.</p>\n",
    "\n",
    "<p class=\"story\">...</p>\n",
    "</body>\n",
    "</html>\n",
    "\"\"\"\n",
    "\n",
    "html_doc  #沒有用print輸出 會出現完整格式 換行會出現\\n\n",
    "print(html_doc)"
   ]
  },
  {
   "cell_type": "code",
   "execution_count": 6,
   "metadata": {},
   "outputs": [
    {
     "name": "stdout",
     "output_type": "stream",
     "text": [
      "<class 'bs4.BeautifulSoup'>\n",
      "<html>\n",
      " <head>\n",
      "  <title>\n",
      "   The Dormouse's story\n",
      "  </title>\n",
      " </head>\n",
      " <body>\n",
      "  <p class=\"title\">\n",
      "   <b>\n",
      "    The Dormouse's story\n",
      "   </b>\n",
      "  </p>\n",
      "  <p class=\"story\">\n",
      "   Once upon a time there were three little sisters; and their names were\n",
      "   <a class=\"sister\" href=\"http://example.com/elsie\" id=\"link1\">\n",
      "    Elsie\n",
      "   </a>\n",
      "   ,\n",
      "   <a class=\"sister\" href=\"http://example.com/lacie\" id=\"link2\">\n",
      "    Lacie\n",
      "   </a>\n",
      "   and\n",
      "   <a class=\"sister\" href=\"http://example.com/tillie\" id=\"link3\">\n",
      "    Tillie\n",
      "   </a>\n",
      "   ;\n",
      "and they lived at the bottom of a well.\n",
      "  </p>\n",
      "  <p class=\"story\">\n",
      "   ...\n",
      "  </p>\n",
      " </body>\n",
      "</html>\n",
      "\n"
     ]
    }
   ],
   "source": [
    "from bs4 import BeautifulSoup\n",
    "soup=BeautifulSoup(html_doc,'html.parser')\n",
    "print(type(soup))\n",
    "print(soup.prettify())"
   ]
  },
  {
   "cell_type": "code",
   "execution_count": 15,
   "metadata": {},
   "outputs": [
    {
     "name": "stdout",
     "output_type": "stream",
     "text": [
      "<head>\n",
      "<title>The Dormouse's story</title>\n",
      "</head>\n",
      "<title>The Dormouse's story</title>\n",
      "<body>\n",
      "<p class=\"title\"><b>The Dormouse's story</b></p>\n",
      "<p class=\"story\">Once upon a time there were three little sisters; and their names were\n",
      "<a class=\"sister\" href=\"http://example.com/elsie\" id=\"link1\">Elsie</a>,\n",
      "<a class=\"sister\" href=\"http://example.com/lacie\" id=\"link2\">Lacie</a> and\n",
      "<a class=\"sister\" href=\"http://example.com/tillie\" id=\"link3\">Tillie</a>;\n",
      "and they lived at the bottom of a well.</p>\n",
      "<p class=\"story\">...</p>\n",
      "</body>\n",
      "<class 'bs4.element.Tag'>\n",
      "<class 'bs4.element.Tag'>\n",
      "<class 'bs4.element.Tag'>\n"
     ]
    }
   ],
   "source": [
    "print(soup.head)\n",
    "print(soup.title)\n",
    "print(soup.body)\n",
    "\n",
    "print(type(soup.head))\n",
    "print(type(soup.title))\n",
    "print(type(soup.body))\n",
    "\n"
   ]
  },
  {
   "cell_type": "code",
   "execution_count": 16,
   "metadata": {},
   "outputs": [
    {
     "data": {
      "text/plain": [
       "{'parser_class': bs4.BeautifulSoup,\n",
       " 'name': 'head',\n",
       " 'namespace': None,\n",
       " '_namespaces': {},\n",
       " 'prefix': None,\n",
       " 'sourceline': 2,\n",
       " 'sourcepos': 0,\n",
       " 'known_xml': False,\n",
       " 'attrs': {},\n",
       " 'contents': ['\\n', <title>The Dormouse's story</title>, '\\n'],\n",
       " 'parent': <html>\n",
       " <head>\n",
       " <title>The Dormouse's story</title>\n",
       " </head>\n",
       " <body>\n",
       " <p class=\"title\"><b>The Dormouse's story</b></p>\n",
       " <p class=\"story\">Once upon a time there were three little sisters; and their names were\n",
       " <a class=\"sister\" href=\"http://example.com/elsie\" id=\"link1\">Elsie</a>,\n",
       " <a class=\"sister\" href=\"http://example.com/lacie\" id=\"link2\">Lacie</a> and\n",
       " <a class=\"sister\" href=\"http://example.com/tillie\" id=\"link3\">Tillie</a>;\n",
       " and they lived at the bottom of a well.</p>\n",
       " <p class=\"story\">...</p>\n",
       " </body>\n",
       " </html>,\n",
       " 'previous_element': '\\n',\n",
       " 'next_element': '\\n',\n",
       " 'next_sibling': '\\n',\n",
       " 'previous_sibling': '\\n',\n",
       " 'hidden': False,\n",
       " 'can_be_empty_element': False,\n",
       " 'cdata_list_attributes': {'*': ['class', 'accesskey', 'dropzone'],\n",
       "  'a': ['rel', 'rev'],\n",
       "  'link': ['rel', 'rev'],\n",
       "  'td': ['headers'],\n",
       "  'th': ['headers'],\n",
       "  'form': ['accept-charset'],\n",
       "  'object': ['archive'],\n",
       "  'area': ['rel'],\n",
       "  'icon': ['sizes'],\n",
       "  'iframe': ['sandbox'],\n",
       "  'output': ['for']},\n",
       " 'preserve_whitespace_tags': {'pre', 'textarea'},\n",
       " 'interesting_string_types': (bs4.element.NavigableString, bs4.element.CData)}"
      ]
     },
     "execution_count": 16,
     "metadata": {},
     "output_type": "execute_result"
    }
   ],
   "source": [
    "soup.head.__dict__"
   ]
  },
  {
   "cell_type": "code",
   "execution_count": 23,
   "metadata": {},
   "outputs": [
    {
     "name": "stdout",
     "output_type": "stream",
     "text": [
      "head\n",
      "<html>\n",
      "<head>\n",
      "<title>The Dormouse's story</title>\n",
      "</head>\n",
      "<body>\n",
      "<p class=\"title\"><b>The Dormouse's story</b></p>\n",
      "<p class=\"story\">Once upon a time there were three little sisters; and their names were\n",
      "<a class=\"sister\" href=\"http://example.com/elsie\" id=\"link1\">Elsie</a>,\n",
      "<a class=\"sister\" href=\"http://example.com/lacie\" id=\"link2\">Lacie</a> and\n",
      "<a class=\"sister\" href=\"http://example.com/tillie\" id=\"link3\">Tillie</a>;\n",
      "and they lived at the bottom of a well.</p>\n",
      "<p class=\"story\">...</p>\n",
      "</body>\n",
      "</html>\n",
      "<class 'bs4.element.Tag'>\n",
      "html\n"
     ]
    }
   ],
   "source": [
    "print(soup.head.name)\n",
    "print(soup.head.parent)\n",
    "print(type(soup.head.parent))\n",
    "\n",
    "print(soup.head.parent.name)\n"
   ]
  },
  {
   "cell_type": "code",
   "execution_count": 24,
   "metadata": {},
   "outputs": [
    {
     "name": "stdout",
     "output_type": "stream",
     "text": [
      "['\\n', <title>The Dormouse's story</title>, '\\n']\n"
     ]
    }
   ],
   "source": [
    "print(soup.head.contents)"
   ]
  },
  {
   "cell_type": "code",
   "execution_count": 27,
   "metadata": {},
   "outputs": [
    {
     "name": "stdout",
     "output_type": "stream",
     "text": [
      "\n",
      "The Dormouse's story\n",
      "\n",
      "<class 'str'>\n"
     ]
    },
    {
     "data": {
      "text/plain": [
       "\"The Dormouse's story\""
      ]
     },
     "execution_count": 27,
     "metadata": {},
     "output_type": "execute_result"
    }
   ],
   "source": [
    "print(soup.head.get_text())\n",
    "print(type(soup.head.get_text()))\n",
    "\n"
   ]
  },
  {
   "cell_type": "code",
   "execution_count": 28,
   "metadata": {},
   "outputs": [
    {
     "data": {
      "text/plain": [
       "\"The Dormouse's story\""
      ]
     },
     "execution_count": 28,
     "metadata": {},
     "output_type": "execute_result"
    }
   ],
   "source": [
    "soup.head.get_text().strip()"
   ]
  },
  {
   "cell_type": "code",
   "execution_count": 29,
   "metadata": {},
   "outputs": [
    {
     "data": {
      "text/plain": [
       "\"The Dormouse's story\""
      ]
     },
     "execution_count": 29,
     "metadata": {},
     "output_type": "execute_result"
    }
   ],
   "source": [
    "soup.head.title.get_text()"
   ]
  },
  {
   "cell_type": "code",
   "execution_count": 32,
   "metadata": {},
   "outputs": [
    {
     "name": "stdout",
     "output_type": "stream",
     "text": [
      "<class 'bs4.element.NavigableString'>\n",
      "<class 'str'>\n"
     ]
    }
   ],
   "source": [
    "#取得title的名字\n",
    "print(type(soup.title.string))\n",
    "print(type(soup.title.get_text()))"
   ]
  },
  {
   "cell_type": "code",
   "execution_count": 37,
   "metadata": {},
   "outputs": [
    {
     "name": "stdout",
     "output_type": "stream",
     "text": [
      "\n",
      "\n",
      "\n",
      "\n",
      "The Dormouse's story\n",
      "\n",
      "\n",
      "\n",
      "\n",
      "\n",
      "\n",
      "The Dormouse's story\n",
      "\n",
      "\n",
      "Once upon a time there were three little sisters; and their names were\n",
      "\n",
      "Elsie\n",
      ",\n",
      "\n",
      "Lacie\n",
      " and\n",
      "\n",
      "Tillie\n",
      ";\n",
      "and they lived at the bottom of a well.\n",
      "\n",
      "\n",
      "...\n",
      "\n",
      "\n",
      "\n",
      "\n",
      "\n",
      "\n"
     ]
    }
   ],
   "source": [
    "soup.strings\n",
    "\n",
    "for string in soup.strings:\n",
    "    print(string)"
   ]
  },
  {
   "cell_type": "code",
   "execution_count": 63,
   "metadata": {},
   "outputs": [
    {
     "name": "stdout",
     "output_type": "stream",
     "text": [
      "<a class=\"sister\" href=\"http://example.com/elsie\" id=\"link1\">Elsie</a>\n"
     ]
    },
    {
     "data": {
      "text/plain": [
       "{'parser_class': bs4.BeautifulSoup,\n",
       " 'name': 'a',\n",
       " 'namespace': None,\n",
       " '_namespaces': {},\n",
       " 'prefix': None,\n",
       " 'sourceline': 9,\n",
       " 'sourcepos': 0,\n",
       " 'known_xml': False,\n",
       " 'attrs': {'href': 'http://example.com/elsie',\n",
       "  'class': ['sister'],\n",
       "  'id': 'link1'},\n",
       " 'contents': ['Elsie'],\n",
       " 'parent': <p class=\"story\">Once upon a time there were three little sisters; and their names were\n",
       " <a class=\"sister\" href=\"http://example.com/elsie\" id=\"link1\">Elsie</a>,\n",
       " <a class=\"sister\" href=\"http://example.com/lacie\" id=\"link2\">Lacie</a> and\n",
       " <a class=\"sister\" href=\"http://example.com/tillie\" id=\"link3\">Tillie</a>;\n",
       " and they lived at the bottom of a well.</p>,\n",
       " 'previous_element': 'Once upon a time there were three little sisters; and their names were\\n',\n",
       " 'next_element': 'Elsie',\n",
       " 'next_sibling': ',\\n',\n",
       " 'previous_sibling': 'Once upon a time there were three little sisters; and their names were\\n',\n",
       " 'hidden': False,\n",
       " 'can_be_empty_element': False,\n",
       " 'cdata_list_attributes': {'*': ['class', 'accesskey', 'dropzone'],\n",
       "  'a': ['rel', 'rev'],\n",
       "  'link': ['rel', 'rev'],\n",
       "  'td': ['headers'],\n",
       "  'th': ['headers'],\n",
       "  'form': ['accept-charset'],\n",
       "  'object': ['archive'],\n",
       "  'area': ['rel'],\n",
       "  'icon': ['sizes'],\n",
       "  'iframe': ['sandbox'],\n",
       "  'output': ['for']},\n",
       " 'preserve_whitespace_tags': {'pre', 'textarea'},\n",
       " 'interesting_string_types': (bs4.element.NavigableString, bs4.element.CData)}"
      ]
     },
     "execution_count": 63,
     "metadata": {},
     "output_type": "execute_result"
    }
   ],
   "source": [
    "print(soup.a)\n",
    "#透過__dict__ 去查看他的屬性\n",
    "soup.a.__dict__\n"
   ]
  },
  {
   "cell_type": "code",
   "execution_count": 71,
   "metadata": {},
   "outputs": [
    {
     "name": "stdout",
     "output_type": "stream",
     "text": [
      "a\n",
      "link1\n",
      "['sister']\n",
      "http://example.com/elsie\n",
      "Elsie\n"
     ]
    }
   ],
   "source": [
    "print(soup.a.name)\n",
    "print(soup.a.attrs['id'])\n",
    "print(soup.a.attrs['class'])\n",
    "print(soup.a.attrs['href'])\n",
    "print(soup.a.get_text())"
   ]
  }
 ],
 "metadata": {
  "kernelspec": {
   "display_name": "Python 3.10.7 ('venv1207')",
   "language": "python",
   "name": "python3"
  },
  "language_info": {
   "codemirror_mode": {
    "name": "ipython",
    "version": 3
   },
   "file_extension": ".py",
   "mimetype": "text/x-python",
   "name": "python",
   "nbconvert_exporter": "python",
   "pygments_lexer": "ipython3",
   "version": "3.10.7"
  },
  "orig_nbformat": 4,
  "vscode": {
   "interpreter": {
    "hash": "86cf6ef8dfbfe3f16f1377e1463e14cf62edca99e11ceee7f4b7a1f58619dc0c"
   }
  }
 },
 "nbformat": 4,
 "nbformat_minor": 2
}
