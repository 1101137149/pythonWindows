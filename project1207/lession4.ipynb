{
 "cells": [
  {
   "cell_type": "code",
   "execution_count": null,
   "metadata": {},
   "outputs": [],
   "source": [
    "#專門抓取動態網頁的資料 套件\n",
    "#pip install selenium\n",
    "\n",
    "#pip install webdriver-manager"
   ]
  },
  {
   "cell_type": "code",
   "execution_count": 11,
   "metadata": {},
   "outputs": [
    {
     "name": "stdout",
     "output_type": "stream",
     "text": [
      "<html lang=\"en\" class=\"h-100\"><head>\n",
      "  <title>Web form - target page</title>\n",
      "\n",
      "  <meta charset=\"utf-8\">\n",
      "  <meta name=\"viewport\" content=\"width=device-width, initial-scale=1\">\n",
      "\n",
      "  <link href=\"//cdn.jsdelivr.net/npm/bootstrap@5.1.0/dist/css/bootstrap.min.css\" rel=\"stylesheet\">\n",
      "  <script src=\"//code.jquery.com/jquery-3.6.0.min.js\"></script>\n",
      "  <script src=\"//cdn.jsdelivr.net/npm/bootstrap@5.1.0/dist/js/bootstrap.bundle.min.js\"></script>\n",
      "</head>\n",
      "\n",
      "<body class=\"d-flex flex-column h-100\">\n",
      "  <main class=\"flex-shrink-2\">\n",
      "    <div class=\"container\">\n",
      "      <div class=\"row\">\n",
      "        <div class=\"col-12\">\n",
      "          <h1 class=\"display-6\">Form submitted</h1>\n",
      "        </div>\n",
      "      </div>\n",
      "      <div class=\"row\">\n",
      "        <div class=\"col-12 py-2\">\n",
      "          <p class=\"lead\" id=\"message\">Received!</p>\n",
      "        </div>\n",
      "      </div>\n",
      "    </div>\n",
      "  </main>\n",
      "\n",
      "\n",
      "\n",
      "</body></html>\n"
     ]
    }
   ],
   "source": [
    "from selenium import webdriver\n",
    "from selenium.webdriver.chrome.service import Service\n",
    "from webdriver_manager.chrome import ChromeDriverManager\n",
    "from selenium.webdriver.common.by import By\n",
    "from selenium.webdriver.support.wait import WebDriverWait\n",
    "\n",
    "#有更新版會自動抓最新版瀏覽器\n",
    "driver = webdriver.Chrome(service=Service(ChromeDriverManager().install()))\n",
    "driver.get(\"https://www.selenium.dev/selenium/web/web-form.html\") #到這個網址\n",
    "driver.implicitly_wait(0.5) #等待0.5秒\n",
    "text_box=driver.find_element(by=By.NAME,value=\"my-text\") #抓網頁元素 name=my-text 的資料\n",
    "submit_button=driver.find_element(by=By.CSS_SELECTOR,value=\"button\") #抓網頁元素=button\n",
    "\n",
    "text_box.send_keys(\"Selenium\") #在這個元素中 輸入Selenium\n",
    "submit_button.click() #模擬按下按鈕\n",
    "\n",
    "WebDriverWait(driver, timeout=1) #明確等待時間 1秒\n",
    "print(driver.page_source) #抓目前網頁的原始碼\n",
    "\n",
    "driver.quit()#關掉瀏覽器\n"
   ]
  },
  {
   "cell_type": "code",
   "execution_count": 5,
   "metadata": {},
   "outputs": [],
   "source": []
  }
 ],
 "metadata": {
  "kernelspec": {
   "display_name": "Python 3.10.7 ('venv1207')",
   "language": "python",
   "name": "python3"
  },
  "language_info": {
   "codemirror_mode": {
    "name": "ipython",
    "version": 3
   },
   "file_extension": ".py",
   "mimetype": "text/x-python",
   "name": "python",
   "nbconvert_exporter": "python",
   "pygments_lexer": "ipython3",
   "version": "3.10.7"
  },
  "orig_nbformat": 4,
  "vscode": {
   "interpreter": {
    "hash": "86cf6ef8dfbfe3f16f1377e1463e14cf62edca99e11ceee7f4b7a1f58619dc0c"
   }
  }
 },
 "nbformat": 4,
 "nbformat_minor": 2
}
