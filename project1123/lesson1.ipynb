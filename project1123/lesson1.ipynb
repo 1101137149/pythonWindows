{
 "cells": [
  {
   "cell_type": "code",
   "execution_count": null,
   "metadata": {},
   "outputs": [],
   "source": []
  }
 ],
 "metadata": {
  "kernelspec": {
   "display_name": "Python 3.10.7 ('venv1123')",
   "language": "python",
   "name": "python3"
  },
  "language_info": {
   "name": "python",
   "version": "3.10.7"
  },
  "orig_nbformat": 4,
  "vscode": {
   "interpreter": {
    "hash": "837ec3623269d237bef1f31e269937a0ceff7f107135ad487b5ed7fe6f30d92f"
   }
  }
 },
 "nbformat": 4,
 "nbformat_minor": 2
}
