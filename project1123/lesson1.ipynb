{
 "cells": [
  {
   "cell_type": "code",
   "execution_count": 16,
   "metadata": {},
   "outputs": [
    {
     "name": "stdout",
     "output_type": "stream",
     "text": [
      "下載成功\n"
     ]
    }
   ],
   "source": [
    "import requests\n",
    "api_key='7d789bb09eb17dbfff5001132a51f87a'\n",
    "cityName=\"Taipei\"\n",
    "url = f\"https://api.openweathermap.org/data/2.5/forecast?q={cityName},tw&APPID={api_key}&lang=zh_tw&units=metric\"\n",
    "\n",
    "\n",
    "response=requests.get(url=url)\n",
    "\n",
    "if response.ok:\n",
    "    print(\"下載成功\")\n",
    "\n",
    "else:\n",
    "    print(\"下載失敗\")\n"
   ]
  },
  {
   "cell_type": "code",
   "execution_count": 22,
   "metadata": {},
   "outputs": [
    {
     "name": "stdout",
     "output_type": "stream",
     "text": [
      "超出索引編號\n"
     ]
    }
   ],
   "source": [
    "try:\n",
    "    names=[\"robert\",\"john\",\"gred\",\"boid\"]\n",
    "    print(names[4])\n",
    "except IndexError:\n",
    "    print(\"超出索引編號\")\n",
    "except Exception as e:\n",
    "    print(e)\n"
   ]
  }
 ],
 "metadata": {
  "kernelspec": {
   "display_name": "Python 3.10.7 ('venv1123')",
   "language": "python",
   "name": "python3"
  },
  "language_info": {
   "codemirror_mode": {
    "name": "ipython",
    "version": 3
   },
   "file_extension": ".py",
   "mimetype": "text/x-python",
   "name": "python",
   "nbconvert_exporter": "python",
   "pygments_lexer": "ipython3",
   "version": "3.10.7"
  },
  "orig_nbformat": 4,
  "vscode": {
   "interpreter": {
    "hash": "837ec3623269d237bef1f31e269937a0ceff7f107135ad487b5ed7fe6f30d92f"
   }
  }
 },
 "nbformat": 4,
 "nbformat_minor": 2
}
