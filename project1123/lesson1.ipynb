{
 "cells": [
  {
   "cell_type": "code",
   "execution_count": null,
   "metadata": {},
   "outputs": [],
   "source": [
    "#要打包成exe\n",
    "#pip install pyinstaller\n",
    "\n",
    "#要記得先打包到requirements.txt\n",
    "#pip freeze > requirements.txt\n",
    "\n",
    "#pyinstaller -F ./main.py  #mac打的指令\n",
    "#pyinstaller -icon=./turkey_icon.ico -F ./main.py  #讓左上出現icon\n",
    "\n",
    "\n",
    "#pyinstaller -F .\\main.py  #windows打的指令\n",
    "#pyinstaller -icon=.\\turkey_icon.ico -F .\\main.py  #讓左上出現icon\n"
   ]
  },
  {
   "cell_type": "code",
   "execution_count": 16,
   "metadata": {},
   "outputs": [
    {
     "name": "stdout",
     "output_type": "stream",
     "text": [
      "下載成功\n"
     ]
    }
   ],
   "source": [
    "import requests\n",
    "api_key='7d789bb09eb17dbfff5001132a51f87a'\n",
    "cityName=\"Taipei\"\n",
    "url = f\"https://api.openweathermap.org/data/2.5/forecast?q={cityName},tw&APPID={api_key}&lang=zh_tw&units=metric\"\n",
    "\n",
    "\n",
    "response=requests.get(url=url)\n",
    "\n",
    "if response.ok:\n",
    "    print(\"下載成功\")\n",
    "\n",
    "else:\n",
    "    print(\"下載失敗\")\n"
   ]
  },
  {
   "cell_type": "code",
   "execution_count": 22,
   "metadata": {},
   "outputs": [
    {
     "name": "stdout",
     "output_type": "stream",
     "text": [
      "超出索引編號\n"
     ]
    }
   ],
   "source": [
    "try:\n",
    "    names=[\"robert\",\"john\",\"gred\",\"boid\"]\n",
    "    print(names[4])\n",
    "except IndexError: #索引錯誤\n",
    "    print(\"超出索引編號\")\n",
    "except Exception as e: #except Exception通常放最後面\n",
    "    print(e)\n"
   ]
  },
  {
   "cell_type": "code",
   "execution_count": null,
   "metadata": {},
   "outputs": [],
   "source": [
    "#如果__pycache__被追蹤了 但不想追蹤他 取消追蹤就要打下方這個指令\n",
    "#並在.gitignore上打上該資料夾\n",
    "#git rm --cached -r __pycache__\n",
    "#git rm --cached -r 檔案名稱\n",
    "\n",
    "#想被追蹤\n",
    "#git add 檔案名稱\n",
    "#git commit -m \"add 檔案名稱 (commit Msg)\"\n",
    "#git push\n",
    "#git .   #git所有檔案\n",
    "#git commit -m \"modfiy 檔案名稱 (commit Msg)\"\n",
    "#git push\n"
   ]
  }
 ],
 "metadata": {
  "kernelspec": {
   "display_name": "Python 3.10.7 ('venv1123')",
   "language": "python",
   "name": "python3"
  },
  "language_info": {
   "codemirror_mode": {
    "name": "ipython",
    "version": 3
   },
   "file_extension": ".py",
   "mimetype": "text/x-python",
   "name": "python",
   "nbconvert_exporter": "python",
   "pygments_lexer": "ipython3",
   "version": "3.10.7"
  },
  "orig_nbformat": 4,
  "vscode": {
   "interpreter": {
    "hash": "837ec3623269d237bef1f31e269937a0ceff7f107135ad487b5ed7fe6f30d92f"
   }
  }
 },
 "nbformat": 4,
 "nbformat_minor": 2
}
