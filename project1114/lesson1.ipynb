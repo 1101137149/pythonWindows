{
 "cells": [
  {
   "cell_type": "code",
   "execution_count": 1,
   "metadata": {},
   "outputs": [],
   "source": [
    "import requests"
   ]
  },
  {
   "cell_type": "code",
   "execution_count": 31,
   "metadata": {},
   "outputs": [
    {
     "name": "stdout",
     "output_type": "stream",
     "text": [
      "\n"
     ]
    }
   ],
   "source": [
    "import private\n",
    "private.secret.open_weather_key\n",
    "aa=\"\"\n",
    "print(aa)"
   ]
  },
  {
   "cell_type": "code",
   "execution_count": 27,
   "metadata": {},
   "outputs": [
    {
     "data": {
      "text/plain": [
       "'http://api.openweathermap.org/data/2.5/forecast?q=Hualien,tw&appid=7d789bb09eb17dbfff5001132a51f87a&lang=zh_tw&units=metric'"
      ]
     },
     "execution_count": 27,
     "metadata": {},
     "output_type": "execute_result"
    }
   ],
   "source": [
    "api_key=private.secret.open_weather_key\n",
    "url=f\"http://api.openweathermap.org/data/2.5/forecast?q=Hualien,tw&appid={api_key}&lang=zh_tw&units=metric\"\n",
    "url"
   ]
  },
  {
   "cell_type": "code",
   "execution_count": 26,
   "metadata": {},
   "outputs": [],
   "source": [
    "tw_county_names = {\"台北\":\"Taipei\",\n",
    "                   \"台中\":\"Taichung\",\n",
    "                   \"基隆\":\"Keelung\",\n",
    "                   \"台南\":\"Tainan\",\n",
    "                   \"高雄\":\"Kaohsiung\",\n",
    "                   \"新北\":\"New Taipei\",\n",
    "                   \"宜蘭\":\"Yilan\",\n",
    "                   \"桃園\":\"Taoyuan\",\n",
    "                   \"嘉義\":\"Chiayi\",\n",
    "                   \"新竹\":\"Hsinchu\",\n",
    "                   \"苗栗\":\"Miaoli\",\n",
    "                   \"南投\":\"Nantou\",\n",
    "                   \"彰化\":\"Changhua\",\n",
    "                   \"雲林\":\"Yunlin\",\n",
    "                   \"屏東\":\"Pingtung\",\n",
    "                   \"花蓮\":\"Hualien\",\n",
    "                   \"台東\":\"Taitung\",\n",
    "                   \"金門\":\"Kinmen\",\n",
    "                   \"澎湖\":\"Penghu\",\n",
    "                   \"連江\":\"Lienchiang\"\n",
    "                   }"
   ]
  },
  {
   "cell_type": "code",
   "execution_count": 30,
   "metadata": {},
   "outputs": [
    {
     "name": "stdout",
     "output_type": "stream",
     "text": [
      "下載成功\n",
      "{'id': 1674502, 'name': 'Hualien', 'coord': {'lat': 23.7817, 'lon': 121.3933}, 'country': 'TW', 'population': 0, 'timezone': 28800, 'sunrise': 1668377291, 'sunset': 1668416974}\n"
     ]
    }
   ],
   "source": [
    "import requests\n",
    "response=requests.get(url)\n",
    "\n",
    "if response.ok:\n",
    "    print(\"下載成功\")\n",
    "    allData=response.json()\n",
    "    city=allData['city']\n",
    "    print(city)"
   ]
  }
 ],
 "metadata": {
  "kernelspec": {
   "display_name": "Python 3.10.7 64-bit",
   "language": "python",
   "name": "python3"
  },
  "language_info": {
   "codemirror_mode": {
    "name": "ipython",
    "version": 3
   },
   "file_extension": ".py",
   "mimetype": "text/x-python",
   "name": "python",
   "nbconvert_exporter": "python",
   "pygments_lexer": "ipython3",
   "version": "3.10.7"
  },
  "orig_nbformat": 4,
  "vscode": {
   "interpreter": {
    "hash": "8bf05f147498495bfb6e9619c745162c55b8ddd4c770a7cd652b90a4ecfec608"
   }
  }
 },
 "nbformat": 4,
 "nbformat_minor": 2
}
