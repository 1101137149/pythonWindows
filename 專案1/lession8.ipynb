{
 "cells": [
  {
   "cell_type": "code",
   "execution_count": 9,
   "metadata": {},
   "outputs": [
    {
     "name": "stdout",
     "output_type": "stream",
     "text": [
      "robert\n",
      "-----------\n",
      "robert\n",
      "魔法師\n",
      "-----------\n",
      "robert\n",
      "戰士\n",
      "-----------\n"
     ]
    }
   ],
   "source": [
    "class Person():\n",
    "    def __init__(self,name):\n",
    "        self.name=name\n",
    "\n",
    "    # def out(self):\n",
    "    #     print(f\"我的name={self.name}\")\n",
    "        \n",
    "class Magician(Person):\n",
    "    def __init__(self,name):\n",
    "        super().__init__(name)\n",
    "        self.__rol=\"魔法師\" #__把attribute隱藏，所以class裡會找不到該署性\n",
    "   \n",
    "    @property #只能讀取的屬性\n",
    "    def rol(self):\n",
    "        return self.__rol  \n",
    "\n",
    "    # def out(self):\n",
    "    #     super().out()\n",
    "    #     print(f\"我的職業={self.rol}\\n\")   \n",
    "\n",
    "\n",
    "class Fighter(Person):\n",
    "    def __init__(self,name):\n",
    "        super().__init__(name)\n",
    "        self.__rol=\"戰士\"  #__把attribute隱藏，所以class裡會找不到該署性\n",
    "\n",
    "    @property #只能讀取的屬性\n",
    "    def rol(self):\n",
    "        return self.__rol\n",
    "\n",
    "    # def out(self):\n",
    "    #     super().out()\n",
    "    #     print(f\"我的職業={self.rol}\\n\")   \n",
    "\n",
    "# p1=Person(\"robert\")\n",
    "# p1.out()\n",
    "\n",
    "# m1=Magician(\"robert\")\n",
    "# m1.out()\n",
    "\n",
    "# f1=Fighter(\"robert\")\n",
    "# f1.out()\n",
    "\n",
    "\n",
    "\n",
    "p1=Person(\"robert\")\n",
    "print(p1.name)\n",
    "print(\"-----------\")\n",
    "\n",
    "\n",
    "m1=Magician(\"robert\")\n",
    "print(m1.name)\n",
    "print(m1.rol)\n",
    "print(\"-----------\")\n",
    "\n",
    "f1=Fighter(\"robert\")\n",
    "print(f1.name)\n",
    "print(f1.rol)\n",
    "print(\"-----------\")\n",
    "\n"
   ]
  }
 ],
 "metadata": {
  "kernelspec": {
   "display_name": "Python 3.10.7 ('venv01')",
   "language": "python",
   "name": "python3"
  },
  "language_info": {
   "codemirror_mode": {
    "name": "ipython",
    "version": 3
   },
   "file_extension": ".py",
   "mimetype": "text/x-python",
   "name": "python",
   "nbconvert_exporter": "python",
   "pygments_lexer": "ipython3",
   "version": "3.10.7"
  },
  "orig_nbformat": 4,
  "vscode": {
   "interpreter": {
    "hash": "d382be7cd431e07077eb23ecb2815bef3ffe49182757653b6f636d580b0a5df3"
   }
  }
 },
 "nbformat": 4,
 "nbformat_minor": 2
}
