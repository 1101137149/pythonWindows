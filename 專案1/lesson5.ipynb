{
 "cells": [
  {
   "cell_type": "code",
   "execution_count": 4,
   "metadata": {},
   "outputs": [
    {
     "name": "stdout",
     "output_type": "stream",
     "text": [
      "[1, 2, 'a', 'b', 3.5, 9.1]\n"
     ]
    }
   ],
   "source": [
    "# 參數說明書常出現以下\n",
    "# *args 一顆星星(沒有限制數量的引數位置呼叫)\n",
    "# 沒有限制數量的引數位置呼叫 傳入的參數用tuple型態打包起來(tuple型態的特性不能修改)\n",
    "\n",
    "\n",
    "def print_args(*args):\n",
    "    print(*args)\n",
    "    \n",
    "arg=[1,2,'a','b',3.5,9.1]\n",
    "print_args(arg)\n",
    "\n",
    "# print_args(1,2,'a','b',3.5,9.1)"
   ]
  },
  {
   "cell_type": "code",
   "execution_count": 9,
   "metadata": {},
   "outputs": [
    {
     "name": "stdout",
     "output_type": "stream",
     "text": [
      "姓名:robert\n",
      "age:34\n",
      "{}\n",
      "-------------------\n",
      "姓名:robert\n",
      "age:34\n",
      "{'a': 1, 'b': 2, 'c': 3, 'd': 4, 'e': 5}\n",
      "-------------------\n"
     ]
    }
   ],
   "source": [
    "#**kwargs使用介紹\n",
    "\n",
    "# **kwags 二顆星星(沒有限制數量的引數名稱呼叫)\n",
    "# 沒有限制數量的引數名稱呼叫\n",
    "\n",
    "\n",
    "def person(name,age,**kwargs):\n",
    "    print(f\"姓名:{name}\")\n",
    "    print(f\"age:{age}\")\n",
    "    print(kwargs)\n",
    "    print(\"-------------------\")\n",
    "\n",
    "\n",
    "person(\"robert\",34)\n",
    "dict={'a':1,'b':2,'c':3,'d':4,'e':5}\n",
    "\n",
    "#person(\"robert\",34,a=1,b=2,c=3,d=4,e=5)\n",
    "person(\"robert\",34,**dict) #**等於解開dict 沒有打星星會出錯"
   ]
  },
  {
   "cell_type": "code",
   "execution_count": 2,
   "metadata": {},
   "outputs": [
    {
     "name": "stdout",
     "output_type": "stream",
     "text": [
      "1-2-a-b-3.5-True."
     ]
    }
   ],
   "source": [
    "#print 用法\n",
    "print(1,2,'a','b',3.5,True,sep='-',end='.')"
   ]
  }
 ],
 "metadata": {
  "kernelspec": {
   "display_name": "Python 3.10.7 ('venv01')",
   "language": "python",
   "name": "python3"
  },
  "language_info": {
   "codemirror_mode": {
    "name": "ipython",
    "version": 3
   },
   "file_extension": ".py",
   "mimetype": "text/x-python",
   "name": "python",
   "nbconvert_exporter": "python",
   "pygments_lexer": "ipython3",
   "version": "3.10.7"
  },
  "orig_nbformat": 4,
  "vscode": {
   "interpreter": {
    "hash": "d382be7cd431e07077eb23ecb2815bef3ffe49182757653b6f636d580b0a5df3"
   }
  }
 },
 "nbformat": 4,
 "nbformat_minor": 2
}
