{
 "cells": [
  {
   "cell_type": "code",
   "execution_count": 1,
   "metadata": {},
   "outputs": [],
   "source": [
    "#自訂的function\n",
    "#傳出dictionary\n",
    "def menu(wine,entree=\"海鮮\",dessert=\"奶昔\"):\n",
    "    return {'酒':wine,'主餐':entree,'甜點':dessert}\n"
   ]
  },
  {
   "cell_type": "code",
   "execution_count": 2,
   "metadata": {},
   "outputs": [
    {
     "data": {
      "text/plain": [
       "{'酒': '啤酒', '主餐': '海鮮', '甜點': '奶昔'}"
      ]
     },
     "execution_count": 2,
     "metadata": {},
     "output_type": "execute_result"
    }
   ],
   "source": [
    "#引數位置的呼叫\n",
    "menu(\"啤酒\")"
   ]
  },
  {
   "cell_type": "code",
   "execution_count": 4,
   "metadata": {},
   "outputs": [
    {
     "data": {
      "text/plain": [
       "{'酒': '啤酒', '主餐': '海鮮', '甜點': '奶酪'}"
      ]
     },
     "execution_count": 4,
     "metadata": {},
     "output_type": "execute_result"
    }
   ],
   "source": [
    "#混合呼叫\n",
    "menu(\"啤酒\",dessert=\"奶酪\")"
   ]
  }
 ],
 "metadata": {
  "kernelspec": {
   "display_name": "Python 3.10.7 ('venv01')",
   "language": "python",
   "name": "python3"
  },
  "language_info": {
   "codemirror_mode": {
    "name": "ipython",
    "version": 3
   },
   "file_extension": ".py",
   "mimetype": "text/x-python",
   "name": "python",
   "nbconvert_exporter": "python",
   "pygments_lexer": "ipython3",
   "version": "3.10.7"
  },
  "orig_nbformat": 4,
  "vscode": {
   "interpreter": {
    "hash": "d382be7cd431e07077eb23ecb2815bef3ffe49182757653b6f636d580b0a5df3"
   }
  }
 },
 "nbformat": 4,
 "nbformat_minor": 2
}
