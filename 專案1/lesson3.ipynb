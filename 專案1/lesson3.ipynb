{
 "cells": [
  {
   "cell_type": "code",
   "execution_count": 2,
   "metadata": {},
   "outputs": [],
   "source": [
    "#自訂的function\n",
    "#傳出dictionary\n",
    "def menu(wine,entree,dessert):\n",
    "    return {'酒':wine,'主餐':entree,'甜點':dessert}\n",
    "\n"
   ]
  },
  {
   "cell_type": "code",
   "execution_count": 5,
   "metadata": {},
   "outputs": [
    {
     "name": "stdout",
     "output_type": "stream",
     "text": [
      "{'酒': '白酒', '主餐': '牛排', '甜點': '冰淇淋'}\n",
      "{'酒': '紅酒', '主餐': '雞排', '甜點': 'Cake'}\n"
     ]
    }
   ],
   "source": [
    "#依據參數的位置呼叫\n",
    "#引數位置的呼叫\n",
    "\n",
    "menu(\"白酒\",\"牛排\",\"冰淇淋\")\n",
    "\n",
    "menu(\"紅酒\",\"雞排\",\"Cake\")"
   ]
  },
  {
   "cell_type": "code",
   "execution_count": 6,
   "metadata": {},
   "outputs": [
    {
     "data": {
      "text/plain": [
       "{'酒': '白酒', '主餐': '牛排', '甜點': '冰淇淋'}"
      ]
     },
     "execution_count": 6,
     "metadata": {},
     "output_type": "execute_result"
    }
   ],
   "source": [
    "#引數名稱的呼叫\n",
    "menu(wine=\"紅酒\",entree='雞排',dessert='冰淇淋')\n"
   ]
  },
  {
   "cell_type": "code",
   "execution_count": null,
   "metadata": {},
   "outputs": [],
   "source": [
    "#使用引數名稱呼叫，可以不用按照順序\n",
    "menu(dessert=\"冰淇淋\",entree=\"牛排\",wine=\"白酒\")"
   ]
  },
  {
   "cell_type": "code",
   "execution_count": 8,
   "metadata": {},
   "outputs": [
    {
     "data": {
      "text/plain": [
       "{'酒': '白酒', '主餐': '牛排', '甜點': '冰淇淋'}"
      ]
     },
     "execution_count": 8,
     "metadata": {},
     "output_type": "execute_result"
    }
   ],
   "source": [
    "#混合呼叫\n",
    "#前面位置呼叫,後面名稱呼叫\n",
    "\n",
    "menu(\"白酒\",dessert=\"冰淇淋\",entree=\"牛排\")"
   ]
  }
 ],
 "metadata": {
  "kernelspec": {
   "display_name": "Python 3.10.7 ('venv01')",
   "language": "python",
   "name": "python3"
  },
  "language_info": {
   "codemirror_mode": {
    "name": "ipython",
    "version": 3
   },
   "file_extension": ".py",
   "mimetype": "text/x-python",
   "name": "python",
   "nbconvert_exporter": "python",
   "pygments_lexer": "ipython3",
   "version": "3.10.7"
  },
  "orig_nbformat": 4,
  "vscode": {
   "interpreter": {
    "hash": "d382be7cd431e07077eb23ecb2815bef3ffe49182757653b6f636d580b0a5df3"
   }
  }
 },
 "nbformat": 4,
 "nbformat_minor": 2
}
